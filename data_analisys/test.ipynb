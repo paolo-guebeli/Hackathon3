{
 "cells": [
  {
   "cell_type": "code",
   "execution_count": 18,
   "metadata": {
    "collapsed": true,
    "pycharm": {
     "name": "#%%\n"
    }
   },
   "outputs": [],
   "source": [
    "import os\n",
    "\n",
    "import SimpleITK as sitk\n",
    "import six\n",
    "\n",
    "import radiomics as rm\n"
   ]
  },
  {
   "cell_type": "code",
   "execution_count": 17,
   "outputs": [
    {
     "ename": "AttributeError",
     "evalue": "module 'radiomics' has no attribute 'getTestCase'",
     "output_type": "error",
     "traceback": [
      "\u001B[1;31m---------------------------------------------------------------------------\u001B[0m",
      "\u001B[1;31mAttributeError\u001B[0m                            Traceback (most recent call last)",
      "\u001B[1;32m<ipython-input-17-6614a73ea45d>\u001B[0m in \u001B[0;36m<module>\u001B[1;34m\u001B[0m\n\u001B[0;32m      1\u001B[0m \u001B[0mdata_dir\u001B[0m \u001B[1;33m=\u001B[0m \u001B[1;34m\"../../SUPSI-DS2/Hackathon 3/10_patients/LUNG1-001/09-18-2008-StudyID-NA-69331/\"\u001B[0m\u001B[1;33m\u001B[0m\u001B[1;33m\u001B[0m\u001B[0m\n\u001B[0;32m      2\u001B[0m \u001B[1;33m\u001B[0m\u001B[0m\n\u001B[1;32m----> 3\u001B[1;33m \u001B[0mimageName\u001B[0m\u001B[1;33m,\u001B[0m \u001B[0mmaskName\u001B[0m \u001B[1;33m=\u001B[0m \u001B[0mrm\u001B[0m\u001B[1;33m.\u001B[0m\u001B[0mgetTestCase\u001B[0m\u001B[1;33m(\u001B[0m\u001B[1;34m'outputfile'\u001B[0m\u001B[1;33m,\u001B[0m \u001B[0mdata_dir\u001B[0m\u001B[1;33m)\u001B[0m\u001B[1;33m\u001B[0m\u001B[1;33m\u001B[0m\u001B[0m\n\u001B[0m",
      "\u001B[1;31mAttributeError\u001B[0m: module 'radiomics' has no attribute 'getTestCase'"
     ]
    }
   ],
   "source": [
    "data_dir = \"../../SUPSI-DS2/Hackathon 3/10_patients/LUNG1-001/09-18-2008-StudyID-NA-69331/\"\n",
    "print('ciao')\n",
    "imageName, maskName = rm.getTestCase('outputfile', data_dir)"
   ],
   "metadata": {
    "collapsed": false,
    "pycharm": {
     "name": "#%%\n"
    }
   }
  }
 ],
 "metadata": {
  "kernelspec": {
   "name": "pycharm-36bfb369",
   "language": "python",
   "display_name": "PyCharm (Hackathon3)"
  },
  "language_info": {
   "codemirror_mode": {
    "name": "ipython",
    "version": 2
   },
   "file_extension": ".py",
   "mimetype": "text/x-python",
   "name": "python",
   "nbconvert_exporter": "python",
   "pygments_lexer": "ipython2",
   "version": "2.7.6"
  }
 },
 "nbformat": 4,
 "nbformat_minor": 0
}